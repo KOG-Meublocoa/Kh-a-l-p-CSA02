{
 "cells": [
  {
   "cell_type": "code",
   "execution_count": 6,
   "metadata": {},
   "outputs": [],
   "source": [
    "import pandas as pd"
   ]
  },
  {
   "cell_type": "code",
   "execution_count": 7,
   "metadata": {},
   "outputs": [],
   "source": [
    "\n",
    "data = {\n",
    "    'Name': ['Nguyen Van A', 'Tran Thi B', 'Le Van C', 'Pham Thi D', 'Hoang Van E',\n",
    "             'Do Thi F', 'Bui Van G', 'Nguyen Thi H', 'Le Van I', 'Tran Van J'],\n",
    "    'Age': [22, 21, 23, 20, 22, 24, 23, 22, 21, 20],\n",
    "    'Class': ['Python', 'JavaScript', 'Python', 'JavaScript', 'Python', \n",
    "              'JavaScript', 'Python', 'JavaScript', 'Python', 'JavaScript'],\n",
    "    'Score': [85, 90, 78, 88, 95, 82, 91, 79, 86, 84]\n",
    "}"
   ]
  },
  {
   "cell_type": "markdown",
   "metadata": {},
   "source": [
    "khoi tao"
   ]
  },
  {
   "cell_type": "code",
   "execution_count": 8,
   "metadata": {},
   "outputs": [],
   "source": [
    "df=pd.DataFrame(data)"
   ]
  },
  {
   "cell_type": "code",
   "execution_count": 9,
   "metadata": {},
   "outputs": [
    {
     "name": "stdout",
     "output_type": "stream",
     "text": [
      "5 hàng đầu tiên:\n",
      "           Name  Age       Class  Score\n",
      "0  Nguyen Van A   22      Python     85\n",
      "1    Tran Thi B   21  JavaScript     90\n",
      "2      Le Van C   23      Python     78\n",
      "3    Pham Thi D   20  JavaScript     88\n",
      "4   Hoang Van E   22      Python     95\n"
     ]
    }
   ],
   "source": [
    "print(\"5 hàng đầu tiên:\")\n",
    "print(df.head())"
   ]
  },
  {
   "cell_type": "code",
   "execution_count": 10,
   "metadata": {},
   "outputs": [
    {
     "name": "stdout",
     "output_type": "stream",
     "text": [
      "\n",
      "Thông tin chung về DataFrame:\n",
      "<class 'pandas.core.frame.DataFrame'>\n",
      "RangeIndex: 10 entries, 0 to 9\n",
      "Data columns (total 4 columns):\n",
      " #   Column  Non-Null Count  Dtype \n",
      "---  ------  --------------  ----- \n",
      " 0   Name    10 non-null     object\n",
      " 1   Age     10 non-null     int64 \n",
      " 2   Class   10 non-null     object\n",
      " 3   Score   10 non-null     int64 \n",
      "dtypes: int64(2), object(2)\n",
      "memory usage: 452.0+ bytes\n",
      "None\n"
     ]
    }
   ],
   "source": [
    "print(\"\\nThông tin chung về DataFrame:\")\n",
    "print(df.info())"
   ]
  },
  {
   "cell_type": "code",
   "execution_count": 11,
   "metadata": {},
   "outputs": [
    {
     "name": "stdout",
     "output_type": "stream",
     "text": [
      "\n",
      "Kiểu dữ liệu của các cột:\n",
      "Name     object\n",
      "Age       int64\n",
      "Class    object\n",
      "Score     int64\n",
      "dtype: object\n"
     ]
    }
   ],
   "source": [
    "print(\"\\nKiểu dữ liệu của các cột:\")\n",
    "print(df.dtypes)"
   ]
  },
  {
   "cell_type": "markdown",
   "metadata": {},
   "source": [
    "truy xuat\n"
   ]
  },
  {
   "cell_type": "code",
   "execution_count": 12,
   "metadata": {},
   "outputs": [
    {
     "name": "stdout",
     "output_type": "stream",
     "text": [
      "cột age\n",
      "0    22\n",
      "1    21\n",
      "2    23\n",
      "3    20\n",
      "4    22\n",
      "5    24\n",
      "6    23\n",
      "7    22\n",
      "8    21\n",
      "9    20\n",
      "Name: Age, dtype: int64\n"
     ]
    }
   ],
   "source": [
    "age = df['Age']\n",
    "print(\"cột age\")\n",
    "print(age)"
   ]
  },
  {
   "cell_type": "code",
   "execution_count": 13,
   "metadata": {},
   "outputs": [
    {
     "name": "stdout",
     "output_type": "stream",
     "text": [
      "          Name  Age   Class  Score\n",
      "4  Hoang Van E   22  Python     95\n"
     ]
    }
   ],
   "source": [
    "hs=df[(df['Name']=='Hoang Van E') & (df['Class']=='Python')]\n",
    "print(hs)"
   ]
  },
  {
   "cell_type": "code",
   "execution_count": 14,
   "metadata": {},
   "outputs": [
    {
     "name": "stdout",
     "output_type": "stream",
     "text": [
      "         Name  Age       Class  Score\n",
      "1  Tran Thi B   21  JavaScript     90\n",
      "3  Pham Thi D   20  JavaScript     88\n",
      "5    Do Thi F   24  JavaScript     82\n",
      "9  Tran Van J   20  JavaScript     84\n"
     ]
    }
   ],
   "source": [
    "\n",
    "hs2=df[(df['Class']=='JavaScript') & (df['Score']>80)]\n",
    "print(hs2)"
   ]
  }
 ],
 "metadata": {
  "kernelspec": {
   "display_name": "Python 3",
   "language": "python",
   "name": "python3"
  },
  "language_info": {
   "codemirror_mode": {
    "name": "ipython",
    "version": 3
   },
   "file_extension": ".py",
   "mimetype": "text/x-python",
   "name": "python",
   "nbconvert_exporter": "python",
   "pygments_lexer": "ipython3",
   "version": "3.12.2"
  }
 },
 "nbformat": 4,
 "nbformat_minor": 2
}
