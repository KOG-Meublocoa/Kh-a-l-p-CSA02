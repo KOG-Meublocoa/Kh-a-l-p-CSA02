{
 "cells": [
  {
   "cell_type": "code",
   "execution_count": null,
   "metadata": {},
   "outputs": [],
   "source": [
    "import pandas as pd"
   ]
  },
  {
   "cell_type": "code",
   "execution_count": null,
   "metadata": {},
   "outputs": [],
   "source": [
    "df = pd.read_excel(\"provinces.xlsx\")\n",
    "df"
   ]
  },
  {
   "cell_type": "code",
   "execution_count": null,
   "metadata": {},
   "outputs": [],
   "source": [
    "names = df[\"Name\"].tolist()\n",
    "print(\"List of provinces and cities: \")\n",
    "print(*names, sep=\", \")"
   ]
  },
  {
   "cell_type": "code",
   "execution_count": null,
   "metadata": {},
   "outputs": [],
   "source": [
    "cities = df[df['Division'].str.contains(\"thành phố\", case=False)]\n",
    "\n",
    "result = cities[['Name', 'Region']]\n",
    "print(result)"
   ]
  },
  {
   "cell_type": "code",
   "execution_count": null,
   "metadata": {},
   "outputs": [],
   "source": [
    "unique_regions = df['Region'].nunique()\n",
    "print(f\"Số vùng địa lý ở Việt Nam: {unique_regions}\")\n",
    "\n",
    "region_counts = df['Region'].value_counts()\n",
    "print(\"\\nSố tỉnh thành trong mỗi vùng địa lý:\")\n",
    "print(region_counts)"
   ]
  },
  {
   "cell_type": "code",
   "execution_count": null,
   "metadata": {},
   "outputs": [],
   "source": [
    "\n",
    "most_populous = df.loc[df['Population'].idxmax()]\n",
    "\n",
    "least_populous = df.loc[df['Population'].idxmin()]\n",
    "\n",
    "print(f\"Tỉnh/Thành phố có dân số đông nhất: {most_populous['Name']} với dân số {most_populous['Population']} người\")\n",
    "print(f\"Tỉnh/Thành phố có dân số ít nhất: {least_populous['Name']} với dân số {least_populous['Population']} người\")"
   ]
  }
 ],
 "metadata": {
  "language_info": {
   "name": "python"
  }
 },
 "nbformat": 4,
 "nbformat_minor": 2
}
